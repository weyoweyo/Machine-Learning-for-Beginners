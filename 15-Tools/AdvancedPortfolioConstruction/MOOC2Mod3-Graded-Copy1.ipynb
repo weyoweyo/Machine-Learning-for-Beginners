{
 "cells": [
  {
   "cell_type": "markdown",
   "metadata": {},
   "source": [
    "# Solutions for Week 3 - Follow along in the same order as the lab_23.ipynb file"
   ]
  },
  {
   "cell_type": "code",
   "execution_count": 1,
   "metadata": {},
   "outputs": [],
   "source": [
    "import numpy as np\n",
    "import pandas as pd\n",
    "\n",
    "def as_colvec(x):\n",
    "    if (x.ndim == 2):\n",
    "        return x\n",
    "    else:\n",
    "        return np.expand_dims(x, axis=1)\n",
    "\n",
    "def implied_returns(delta, sigma, w):\n",
    "    \"\"\"\n",
    "Obtain the implied expected returns by reverse engineering the weights\n",
    "Inputs:\n",
    "delta: Risk Aversion Coefficient (scalar)\n",
    "sigma: Variance-Covariance Matrix (N x N) as DataFrame\n",
    "    w: Portfolio weights (N x 1) as Series\n",
    "Returns an N x 1 vector of Returns as Series\n",
    "    \"\"\"\n",
    "    ir = delta * sigma.dot(w).squeeze() # to get a series from a 1-column dataframe\n",
    "    ir.name = 'Implied Returns'\n",
    "    return ir\n"
   ]
  },
  {
   "cell_type": "code",
   "execution_count": 2,
   "metadata": {},
   "outputs": [],
   "source": [
    "# Assumes that Omega is proportional to the variance of the prior\n",
    "def proportional_prior(sigma, tau, p):\n",
    "    \"\"\"\n",
    "    Returns the He-Litterman simplified Omega\n",
    "    Inputs:\n",
    "    sigma: N x N Covariance Matrix as DataFrame\n",
    "    tau: a scalar\n",
    "    p: a K x N DataFrame linking Q and Assets\n",
    "    returns a P x P DataFrame, a Matrix representing Prior Uncertainties\n",
    "    \"\"\"\n",
    "    helit_omega = p.dot(tau * sigma).dot(p.T)\n",
    "    # Make a diag matrix from the diag elements of Omega\n",
    "    return pd.DataFrame(np.diag(np.diag(helit_omega.values)),index=p.index, columns=p.index)\n"
   ]
  },
  {
   "cell_type": "code",
   "execution_count": 3,
   "metadata": {},
   "outputs": [],
   "source": [
    "from numpy.linalg import inv\n",
    "\n",
    "def bl(w_prior, sigma_prior, p, q,\n",
    "                omega=None,\n",
    "                delta=2.5, tau=.02):\n",
    "    \"\"\"\n",
    "# Computes the posterior expected returns based on \n",
    "# the original black litterman reference model\n",
    "#\n",
    "# W.prior must be an N x 1 vector of weights, a Series\n",
    "# Sigma.prior is an N x N covariance matrix, a DataFrame\n",
    "# P must be a K x N matrix linking Q and the Assets, a DataFrame\n",
    "# Q must be an K x 1 vector of views, a Series\n",
    "# Omega must be a K x K matrix a DataFrame, or None\n",
    "# if Omega is None, we assume it is\n",
    "#    proportional to variance of the prior\n",
    "# delta and tau are scalars\n",
    "    \"\"\"\n",
    "    if omega is None:\n",
    "        omega = proportional_prior(sigma_prior, tau, p)\n",
    "    # Force w.prior and Q to be column vectors\n",
    "    # How many assets do we have?\n",
    "    N = w_prior.shape[0]\n",
    "    # And how many views?\n",
    "    K = q.shape[0]\n",
    "    # First, reverse-engineer the weights to get pi\n",
    "    pi = implied_returns(delta, sigma_prior,  w_prior)\n",
    "    # Adjust (scale) Sigma by the uncertainty scaling factor\n",
    "    sigma_prior_scaled = tau * sigma_prior  \n",
    "    # posterior estimate of the mean, use the \"Master Formula\"\n",
    "    # we use the versions that do not require\n",
    "    # Omega to be inverted (see previous section)\n",
    "    # this is easier to read if we use '@' for matrixmult instead of .dot()\n",
    "    #     mu_bl = pi + sigma_prior_scaled @ p.T @ inv(p @ sigma_prior_scaled @ p.T + omega) @ (q - p @ pi)\n",
    "    mu_bl = pi + sigma_prior_scaled.dot(p.T).dot(inv(p.dot(sigma_prior_scaled).dot(p.T) + omega).dot(q - p.dot(pi).values))\n",
    "    # posterior estimate of uncertainty of mu.bl\n",
    "#     sigma_bl = sigma_prior + sigma_prior_scaled - sigma_prior_scaled @ p.T @ inv(p @ sigma_prior_scaled @ p.T + omega) @ p @ sigma_prior_scaled\n",
    "    sigma_bl = sigma_prior + sigma_prior_scaled - sigma_prior_scaled.dot(p.T).dot(inv(p.dot(sigma_prior_scaled).dot(p.T) + omega)).dot(p).dot(sigma_prior_scaled)\n",
    "    return (mu_bl, sigma_bl)\n"
   ]
  },
  {
   "cell_type": "code",
   "execution_count": 4,
   "metadata": {},
   "outputs": [],
   "source": [
    "# for convenience and readability, define the inverse of a dataframe\n",
    "def inverse(d):\n",
    "    \"\"\"\n",
    "    Invert the dataframe by inverting the underlying matrix\n",
    "    \"\"\"\n",
    "    return pd.DataFrame(inv(d.values), index=d.columns, columns=d.index)\n",
    "\n",
    "def w_msr(sigma, mu, scale=True):\n",
    "    \"\"\"\n",
    "    Optimal (Tangent/Max Sharpe Ratio) Portfolio weights\n",
    "    by using the Markowitz Optimization Procedure\n",
    "    Mu is the vector of Excess expected Returns\n",
    "    Sigma must be an N x N matrix as a DataFrame and Mu a column vector as a Series\n",
    "    This implements page 188 Equation 5.2.28 of\n",
    "    \"The econometrics of financial markets\" Campbell, Lo and Mackinlay.\n",
    "    \"\"\"\n",
    "    w = inverse(sigma).dot(mu)\n",
    "    if scale:\n",
    "        w = w/sum(w) # fix: this assumes all w is +ve\n",
    "    return w\n"
   ]
  },
  {
   "cell_type": "code",
   "execution_count": 5,
   "metadata": {},
   "outputs": [
    {
     "name": "stdout",
     "output_type": "stream",
     "text": [
      "             Hlth       Fin     Whlsl     Rtail      Food\n",
      "2018-12  0.005481  0.023729  0.010849  0.077102  0.013871\n",
      "\n",
      "Food     0.007384\n",
      "Hlth     0.009590\n",
      "Whlsl    0.010508\n",
      "Fin      0.011523\n",
      "Rtail    0.012073\n",
      "Name: Implied Returns, dtype: float64\n",
      "\n",
      "Food     0.007384\n",
      "Hlth     0.009590\n",
      "Whlsl    0.010508\n",
      "Fin      0.011523\n",
      "Rtail    0.012073\n",
      "Name: Implied Returns, dtype: float64\n"
     ]
    },
    {
     "data": {
      "text/html": [
       "<div>\n",
       "<style scoped>\n",
       "    .dataframe tbody tr th:only-of-type {\n",
       "        vertical-align: middle;\n",
       "    }\n",
       "\n",
       "    .dataframe tbody tr th {\n",
       "        vertical-align: top;\n",
       "    }\n",
       "\n",
       "    .dataframe thead th {\n",
       "        text-align: right;\n",
       "    }\n",
       "</style>\n",
       "<table border=\"1\" class=\"dataframe\">\n",
       "  <thead>\n",
       "    <tr style=\"text-align: right;\">\n",
       "      <th></th>\n",
       "      <th>Hlth</th>\n",
       "      <th>Fin</th>\n",
       "      <th>Whlsl</th>\n",
       "      <th>Rtail</th>\n",
       "      <th>Food</th>\n",
       "    </tr>\n",
       "  </thead>\n",
       "  <tbody>\n",
       "    <tr>\n",
       "      <th>Hlth</th>\n",
       "      <td>0.007651</td>\n",
       "      <td>0.004138</td>\n",
       "      <td>0.004149</td>\n",
       "      <td>0.003812</td>\n",
       "      <td>0.002191</td>\n",
       "    </tr>\n",
       "    <tr>\n",
       "      <th>Fin</th>\n",
       "      <td>0.004138</td>\n",
       "      <td>0.008124</td>\n",
       "      <td>0.005108</td>\n",
       "      <td>0.004072</td>\n",
       "      <td>0.002083</td>\n",
       "    </tr>\n",
       "    <tr>\n",
       "      <th>Whlsl</th>\n",
       "      <td>0.004149</td>\n",
       "      <td>0.005108</td>\n",
       "      <td>0.005311</td>\n",
       "      <td>0.004113</td>\n",
       "      <td>0.002658</td>\n",
       "    </tr>\n",
       "    <tr>\n",
       "      <th>Rtail</th>\n",
       "      <td>0.003812</td>\n",
       "      <td>0.004072</td>\n",
       "      <td>0.004113</td>\n",
       "      <td>0.005759</td>\n",
       "      <td>0.002940</td>\n",
       "    </tr>\n",
       "    <tr>\n",
       "      <th>Food</th>\n",
       "      <td>0.002191</td>\n",
       "      <td>0.002083</td>\n",
       "      <td>0.002658</td>\n",
       "      <td>0.002940</td>\n",
       "      <td>0.004540</td>\n",
       "    </tr>\n",
       "  </tbody>\n",
       "</table>\n",
       "</div>"
      ],
      "text/plain": [
       "           Hlth       Fin     Whlsl     Rtail      Food\n",
       "Hlth   0.007651  0.004138  0.004149  0.003812  0.002191\n",
       "Fin    0.004138  0.008124  0.005108  0.004072  0.002083\n",
       "Whlsl  0.004149  0.005108  0.005311  0.004113  0.002658\n",
       "Rtail  0.003812  0.004072  0.004113  0.005759  0.002940\n",
       "Food   0.002191  0.002083  0.002658  0.002940  0.004540"
      ]
     },
     "execution_count": 5,
     "metadata": {},
     "output_type": "execute_result"
    }
   ],
   "source": [
    "import edhec_risk_kit_206 as erk\n",
    "\n",
    "ind49_rets = erk.get_ind_returns(weighting=\"vw\", n_inds=49)[\"2013\":]\n",
    "ind49_mcap = erk.get_ind_market_caps(49, weights=True)[\"2013\":]\n",
    "inds = ['Hlth', 'Fin', 'Whlsl', 'Rtail', 'Food']\n",
    "rho_ = ind49_rets[inds].corr()\n",
    "vols_ = ind49_rets[inds].std()*np.sqrt(12)\n",
    "w_eq_ = ind49_mcap[inds].iloc[0]\n",
    "w_eq_ = w_eq_/w_eq_.sum()\n",
    "# Compute the Covariance Matrix\n",
    "\n",
    "\n",
    " \n",
    "###   ###   ###   ###   ###   ###   ###   ###   ###   ###   ###   ###   ###   ###   ###   ###   ###   ###\n",
    "                                                                                 \n",
    "        ##  I HAVE CHANGED THE COMMENTED LINE WITH THE NON COMMENTED LINE           \n",
    "    \n",
    "#sigma_prior_ =  (vols_.T).dot(vols_) * rho_\n",
    "sigma_prior_ = ind49_rets[inds].cov()*np.sqrt(12)\n",
    "\n",
    "###   ###   ###   ###   ###   ###   ###   ###   ###   ###   ###   ###   ###   ###   ###   ###   ###   ###\n",
    "\n",
    "\n",
    "# Compute Pi and compare:\n",
    "\n",
    "\n",
    "# Q1  Which industry sector has the highest capweight?\n",
    "print(ind49_mcap.iloc[[-1]][inds])\n",
    "\n",
    "print()\n",
    "# Q2 Use the same data as the previous question, which industry sector has the highest implied return?\n",
    "pi_ = implied_returns(delta=2.5, sigma=sigma_prior_, w=w_eq_)\n",
    "print(pi_.sort_values())\n",
    "\n",
    "print()\n",
    "# Q3 Use the same data and assumptions as the previous question. Which industry sector has the lowest implied return?\n",
    "pi_ = implied_returns(delta=2.5, sigma=sigma_prior_, w=w_eq_)\n",
    "print(pi_.sort_values())\n",
    " \n",
    "sigma_prior_"
   ]
  },
  {
   "cell_type": "code",
   "execution_count": 64,
   "metadata": {},
   "outputs": [
    {
     "data": {
      "text/html": [
       "<div>\n",
       "<style scoped>\n",
       "    .dataframe tbody tr th:only-of-type {\n",
       "        vertical-align: middle;\n",
       "    }\n",
       "\n",
       "    .dataframe tbody tr th {\n",
       "        vertical-align: top;\n",
       "    }\n",
       "\n",
       "    .dataframe thead th {\n",
       "        text-align: right;\n",
       "    }\n",
       "</style>\n",
       "<table border=\"1\" class=\"dataframe\">\n",
       "  <thead>\n",
       "    <tr style=\"text-align: right;\">\n",
       "      <th></th>\n",
       "      <th>Hlth</th>\n",
       "      <th>Fin</th>\n",
       "      <th>Whlsl</th>\n",
       "      <th>Rtail</th>\n",
       "      <th>Food</th>\n",
       "    </tr>\n",
       "  </thead>\n",
       "  <tbody>\n",
       "    <tr>\n",
       "      <th>0</th>\n",
       "      <td>1.0</td>\n",
       "      <td>0.0</td>\n",
       "      <td>-0.151306</td>\n",
       "      <td>-0.848694</td>\n",
       "      <td>0.0</td>\n",
       "    </tr>\n",
       "  </tbody>\n",
       "</table>\n",
       "</div>"
      ],
      "text/plain": [
       "   Hlth  Fin     Whlsl     Rtail  Food\n",
       "0   1.0  0.0 -0.151306 -0.848694   0.0"
      ]
     },
     "execution_count": 64,
     "metadata": {},
     "output_type": "execute_result"
    }
   ],
   "source": [
    "# Hlth will outperform other Rtail and Whlsl by 5%\n",
    "q_ = pd.Series([.03]) # just one view\n",
    "# start with a single view, all zeros and overwrite the specific view\n",
    "p_ = pd.DataFrame([0.]*len(inds), index=inds).T\n",
    "# find the relative market caps of Rtail and Whlsl to split the\n",
    "# relative outperformance of Hlth ...\n",
    "w_rtail =  w_eq_.loc[\"Rtail\"]/(w_eq_.loc[\"Rtail\"]+w_eq_.loc[\"Whlsl\"])\n",
    "w_whlsl =  w_eq_.loc[\"Whlsl\"]/(w_eq_.loc[\"Rtail\"]+w_eq_.loc[\"Whlsl\"])\n",
    "p_.iloc[0]['Hlth'] = 1.\n",
    "p_.iloc[0]['Rtail'] = -w_rtail\n",
    "p_.iloc[0]['Whlsl'] = -w_whlsl\n",
    "\n",
    "# Q4 Impose the subjective relative view that Hlth will outperform Rtail and Whlsl by 3%  \n",
    "#  (Hint: Use the same logic as View 1 in the He-Litterman paper)\n",
    "#  What is the entry you will use for the Pick Matrix P for Whlsl. (Hint: Remember to use the correct sign)\n",
    "\n",
    "\n",
    "# Q5 Impose the subjective relative view that Hlth will outperform Rtail and Whlsl by 3%  \n",
    "#  (Hint: Use the same logic as View 1 in the He-Litterman paper)\n",
    "#  What is the entry you will use for the Pick Matrix P for Rtail. (Hint: Remember to use the correct sign)\n",
    "\n",
    "p_"
   ]
  },
  {
   "cell_type": "code",
   "execution_count": 65,
   "metadata": {},
   "outputs": [
    {
     "data": {
      "text/plain": [
       "Food     0.005214\n",
       "Rtail    0.006859\n",
       "Whlsl    0.010063\n",
       "Fin      0.011245\n",
       "Hlth     0.021221\n",
       "dtype: float64"
      ]
     },
     "execution_count": 65,
     "metadata": {},
     "output_type": "execute_result"
    }
   ],
   "source": [
    "delta = 2.5\n",
    "tau = 0.05 # from Footnote 8\n",
    "# Find the Black Litterman Expected Returns\n",
    "bl_mu_, bl_sigma_ = bl(w_eq_, sigma_prior_, p_, q_, tau = tau)\n",
    "\n",
    "#implied_returns(delta, sigma_prior_, w_eq_)\n",
    "\n",
    "#  Q 6 Impose the subjective relative view that Hlth will outperform Rtail and Whlsl by 3%  \n",
    "#  (Hint: Use the same logic as View 1 in the He-Litterman paper) Once you impose this view (use delta = 2.5 and tau = 0.05 as in the paper), \n",
    "#  which sector has the lowest implied return?\n",
    "\n",
    "bl_mu_.sort_values()"
   ]
  },
  {
   "cell_type": "code",
   "execution_count": 67,
   "metadata": {},
   "outputs": [
    {
     "data": {
      "text/plain": [
       "Rtail   -0.493086\n",
       "Whlsl   -0.087908\n",
       "Food     0.132549\n",
       "Fin      0.167011\n",
       "Hlth     1.233814\n",
       "dtype: float64"
      ]
     },
     "execution_count": 67,
     "metadata": {},
     "output_type": "execute_result"
    }
   ],
   "source": [
    "def w_star(delta, sigma, mu):\n",
    "    return (inverse(sigma).dot(mu))/delta\n",
    "\n",
    "wstar_ = w_star(delta=2.5, sigma=bl_sigma_, mu=bl_mu_)\n",
    "\n",
    "# Q7 Impose the subjective relative view that Hlth will outperform Rtail and Whlsl by 3%  \n",
    "# (Hint: Use the same logic as View 1 in the He-Litterman paper) \n",
    "# Which sector now has the highest weight in the MSR portfolio using the Black-Litterman model?\n",
    "\n",
    "# Q8 Impose the subjective relative view that Hlth will outperform Rtail and Whlsl by 3%  \n",
    "# (Hint: Use the same logic as View 1 in the He-Litterman paper) \n",
    "# Which sector now has the lowest weight in the MSR portfolio using the Black-Litterman model?\n",
    "\n",
    "# display w*\n",
    "wstar_.sort_values()"
   ]
  },
  {
   "cell_type": "code",
   "execution_count": 71,
   "metadata": {},
   "outputs": [
    {
     "data": {
      "text/plain": [
       "Rtail    0.003626\n",
       "Food     0.003868\n",
       "Whlsl    0.009786\n",
       "Fin      0.011073\n",
       "Hlth     0.028435\n",
       "dtype: float64"
      ]
     },
     "execution_count": 71,
     "metadata": {},
     "output_type": "execute_result"
    }
   ],
   "source": [
    "# Q 10 Now, let’s assume you change the relative view. \n",
    "# You still think that it Hlth will outperform Rtail and Whlsl but you think that the outperformance will be 5% not the 3% you originally anticipated. \n",
    "# Under this new view which sector has the highest expected return? \n",
    "\n",
    "q_[0] = .05\n",
    "bl_mu_, bl_sigma_ = bl(w_eq_, sigma_prior_, p_, q_, tau = tau)\n",
    "bl_mu_.sort_values()"
   ]
  },
  {
   "cell_type": "code",
   "execution_count": 72,
   "metadata": {},
   "outputs": [
    {
     "data": {
      "text/plain": [
       "Rtail   -1.123756\n",
       "Whlsl   -0.200345\n",
       "Food     0.132549\n",
       "Fin      0.167011\n",
       "Hlth     1.976922\n",
       "dtype: float64"
      ]
     },
     "execution_count": 72,
     "metadata": {},
     "output_type": "execute_result"
    }
   ],
   "source": [
    "# Q 11 Now, let’s assume you change the relative view. You still think that it Hlth will outperform Rtail and Whlsl but you think that\n",
    "# the outperformance will be 5% not the 3% you originally anticipated. \n",
    "# Under this new view which sector does the Black-Litterman model assign the highest weight?\n",
    "\n",
    "wstar = w_star(delta=2.5, sigma=bl_sigma_, mu=bl_mu_)\n",
    "# display w*\n",
    "wstar.sort_values()"
   ]
  }
 ],
 "metadata": {
  "kernelspec": {
   "display_name": "Python 3",
   "language": "python",
   "name": "python3"
  },
  "language_info": {
   "codemirror_mode": {
    "name": "ipython",
    "version": 3
   },
   "file_extension": ".py",
   "mimetype": "text/x-python",
   "name": "python",
   "nbconvert_exporter": "python",
   "pygments_lexer": "ipython3",
   "version": "3.7.6"
  }
 },
 "nbformat": 4,
 "nbformat_minor": 4
}
